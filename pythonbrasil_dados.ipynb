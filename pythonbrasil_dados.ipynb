{
 "cells": [
  {
   "cell_type": "code",
   "execution_count": 1,
   "metadata": {},
   "outputs": [
    {
     "name": "stdout",
     "output_type": "stream",
     "text": [
      "Obtendo dados de ocorrências...\n",
      "     cisp  roubo_veiculo  recuperacao_veiculos\n",
      "0       1            548                   527\n",
      "1       4           2133                  1872\n",
      "2       5           1253                  1513\n",
      "3       6           4332                  7768\n",
      "4       7           1970                  1778\n",
      "..    ...            ...                   ...\n",
      "133   159            279                   322\n",
      "134   165            500                   621\n",
      "135   166            965                  1444\n",
      "136   167            104                   386\n",
      "137   168             59                   159\n",
      "\n",
      "[138 rows x 3 columns]\n",
      "Dados obtidos com sucesso!\n"
     ]
    }
   ],
   "source": [
    "# pip install pandas numpy matplotlib scikit-learn seaborn\n",
    "import pandas as pd\n",
    "import numpy as np\n",
    "import matplotlib.pyplot as plt\n",
    "\n",
    "# Constante do Endereço dos dados\n",
    "#ENDERECO_DADOS = 'https://www.ispdados.rj.gov.br/Arquivos/BaseDPEvolucaoMensalCisp.csv'\n",
    "ENDERECO_DADOS = r'./dados/BaseDPEvolucaoMensalCisp.csv'\n",
    "\n",
    "# obter dados do CSV e do MySQL\n",
    "try:\n",
    "    print('Obtendo dados de ocorrências...')\n",
    "\n",
    "    df_ocorrencias = pd.read_csv(ENDERECO_DADOS, sep=';', encoding='iso-8859-1')\n",
    "\n",
    "    # filtrar ano de 2021 a 2023\n",
    "    # df_ocorrencias = df_ocorrencias[(df_ocorrencias['ano'] >= 2020) & (df_ocorrencias['ano'] <= 2023)]\n",
    "\n",
    "    # delimitar somente as variáveis necessárias\n",
    "    df_veiculos = df_ocorrencias[['cisp','roubo_veiculo','recuperacao_veiculos']]\n",
    "\n",
    "    #totalizar\n",
    "    df_total_veiculos = df_veiculos.groupby('cisp').sum(['roub_veiculo','recuperacao_veiculos']).reset_index()\n",
    "\n",
    "    print(df_total_veiculos)\n",
    "\n",
    "    print('Dados obtidos com sucesso!')\n",
    "except Exception as e:\n",
    "    print('Erro ao obter dados: ', e)"
   ]
  }
 ],
 "metadata": {
  "kernelspec": {
   "display_name": "Python 3",
   "language": "python",
   "name": "python3"
  },
  "language_info": {
   "codemirror_mode": {
    "name": "ipython",
    "version": 3
   },
   "file_extension": ".py",
   "mimetype": "text/x-python",
   "name": "python",
   "nbconvert_exporter": "python",
   "pygments_lexer": "ipython3",
   "version": "3.13.0"
  }
 },
 "nbformat": 4,
 "nbformat_minor": 2
}
